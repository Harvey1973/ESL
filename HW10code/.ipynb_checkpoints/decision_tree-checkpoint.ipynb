{
 "cells": [
  {
   "cell_type": "code",
   "execution_count": 17,
   "metadata": {},
   "outputs": [],
   "source": [
    "from sklearn.tree import DecisionTreeRegressor\n",
    "import numpy as np \n",
    "from sklearn.linear_model import LinearRegression\n",
    "from numpy.linalg import inv"
   ]
  },
  {
   "cell_type": "code",
   "execution_count": 3,
   "metadata": {},
   "outputs": [],
   "source": [
    "X = np.random.normal(loc =0, scale =1, size=(100,10))\n",
    "y = np.random.normal(loc =0, scale =1, size=(100,))"
   ]
  },
  {
   "cell_type": "code",
   "execution_count": 16,
   "metadata": {},
   "outputs": [
    {
     "name": "stdout",
     "output_type": "stream",
     "text": [
      "9\n",
      "9\n",
      "9\n",
      "9\n",
      "9\n",
      "9\n",
      "9\n",
      "9\n",
      "9\n",
      "9\n",
      "(10,)\n",
      "[[ 0.03564303  0.00056225 -0.02591651 ...  0.00906969  0.02102098\n",
      "   0.03288124]\n",
      " [ 0.01260372  0.03844456 -0.00380335 ... -0.01107989 -0.0026541\n",
      "   0.00102607]\n",
      " [-0.011178   -0.01395977  0.02881886 ...  0.01811865 -0.02361024\n",
      "  -0.00038618]\n",
      " ...\n",
      " [-0.00226845 -0.00496895 -0.0159921  ...  0.00521577  0.00049146\n",
      "  -0.00479337]\n",
      " [ 0.02131053 -0.00198929 -0.03083698 ... -0.01060424  0.01970562\n",
      "  -0.00135742]\n",
      " [-0.0011687   0.03248521 -0.00870985 ...  0.01603794 -0.00960621\n",
      "   0.01913065]]\n",
      "3.094295927811284\n"
     ]
    }
   ],
   "source": [
    "########\n",
    "# Estimating S \n",
    "########\n",
    "# True y values for 10 datasets\n",
    "y_true = np.zeros(shape = (10,100))\n",
    "#print(y_true[0,].shape)\n",
    "# predicted values for 10 datasets\n",
    "y_predict = np.zeros(shape = (10,100))\n",
    "X = np.random.normal(loc =0, scale =1, size=(100,10))\n",
    "for i in range (10):\n",
    "    y_rand = np.random.normal(loc = 0, scale = 1, size=(100,))\n",
    "    y_true[i,] = y_rand\n",
    "    clf = DecisionTreeRegressor(max_leaf_nodes=5)\n",
    "    clf.fit(X,y_rand)\n",
    "    treeObj = clf.tree_\n",
    "    print (treeObj.node_count)\n",
    "    y_predict[i,] = clf.predict(X)\n",
    "\n",
    "print(y_predict[:,0].shape)\n",
    "S_hat = np.zeros(shape=(100,100))\n",
    "# Step 2 \n",
    "for i in range(100):\n",
    "    lr = LinearRegression(fit_intercept=False)\n",
    "    lr.fit(y_true,y_predict[:,i])\n",
    "    #S_hat[i,] = lr.coef_\n",
    "    S_hat = np.dot(np.dot(inv(np.dot(np.transpose(y_true),y_true)),np.transpose(y_true)),y_predict[:,i])\n",
    "\n",
    "print(S_hat)\n",
    "print(np.trace(S_hat))\n",
    "    \n",
    "    \n",
    "    \n",
    "    "
   ]
  },
  {
   "cell_type": "code",
   "execution_count": 13,
   "metadata": {},
   "outputs": [
    {
     "name": "stdout",
     "output_type": "stream",
     "text": [
      "3.6161333483426032\n"
     ]
    }
   ],
   "source": [
    "# leaf node = 1\n",
    "y_predict = np.zeros(shape=(100,10))\n",
    "y_true = np.zeros(shape=(100,10))\n",
    "for i in range(10):\n",
    "    # generate new values y \n",
    "    y = np.random.normal(loc =0, scale =1, size=(100,))\n",
    "    # leaf node = 1 , then for every point , just equal to average of all 100 y values\n",
    "    prediction = np.mean(y)\n",
    "    y_predict[:,i] = prediction\n",
    "    y_true[:,i] = y\n",
    "\n",
    "sums = 0\n",
    "for i in range (100):\n",
    "    y_1 = y_predict[i,:]\n",
    "    y_2 = y_true[i,:]\n",
    "    E1 = np.mean(y_1)\n",
    "    E2 = np.mean(y_2)\n",
    "    count = 0\n",
    "    for j in range (10):\n",
    "        count += (y_1[j] - E1)*(y_2[j] - E2)\n",
    "    sums += count\n",
    "print(sums)    \n",
    "    "
   ]
  },
  {
   "cell_type": "code",
   "execution_count": 8,
   "metadata": {},
   "outputs": [
    {
     "name": "stdout",
     "output_type": "stream",
     "text": [
      "11\n",
      "11\n",
      "11\n",
      "11\n",
      "11\n",
      "11\n",
      "11\n",
      "11\n",
      "11\n",
      "11\n",
      "33.018839706935296\n"
     ]
    }
   ],
   "source": [
    "# leaf node = 5,10\n",
    "y_hat = np.zeros(shape = (100,10))\n",
    "y_true = np.zeros(shape = (100,10))\n",
    "for i in range(10):\n",
    "    # generate new response\n",
    "    y = np.random.normal(loc =0, scale =1, size=(100,))\n",
    "    clf = DecisionTreeRegressor(max_leaf_nodes=6)\n",
    "    clf.fit(X,y)\n",
    "    treeObj = clf.tree_\n",
    "    print (treeObj.node_count)\n",
    "    for j in range(100):\n",
    "        y_predict = clf.predict(X[j,].reshape(1,-1))\n",
    "        y_hat[j,i] = y_predict[0]\n",
    "        y_true[j,i]= y[j]\n",
    "\n",
    "\n",
    "sums = 0\n",
    "for i in range(100):\n",
    "    Ex = np.mean(y_hat[i,])\n",
    "    Ey = np.mean(y_true[i,])\n",
    "    for j in range (10):\n",
    "        #print(y_hat[0,i])\n",
    "        count += (y_hat[i,j] - Ex)*(y_true[i,j] -Ey)\n",
    "    sums += count/10\n",
    "    #print(count)\n",
    "    count = 0.0\n",
    "print(sums)"
   ]
  },
  {
   "cell_type": "code",
   "execution_count": 99,
   "metadata": {},
   "outputs": [
    {
     "name": "stdout",
     "output_type": "stream",
     "text": [
      "(100, 10)\n",
      "(100, 10)\n"
     ]
    }
   ],
   "source": [
    "print(y_hat.shape)\n",
    "print(y_true.shape)"
   ]
  },
  {
   "cell_type": "code",
   "execution_count": 101,
   "metadata": {},
   "outputs": [
    {
     "name": "stdout",
     "output_type": "stream",
     "text": [
      "(10,)\n"
     ]
    }
   ],
   "source": [
    "print(y_hat[0,].shape)"
   ]
  },
  {
   "cell_type": "code",
   "execution_count": 79,
   "metadata": {},
   "outputs": [
    {
     "name": "stdout",
     "output_type": "stream",
     "text": [
      "(3, 1)\n"
     ]
    }
   ],
   "source": [
    "a = np.array([[1],[2],[3]])\n",
    "print(a.shape)"
   ]
  },
  {
   "cell_type": "code",
   "execution_count": 124,
   "metadata": {},
   "outputs": [
    {
     "name": "stdout",
     "output_type": "stream",
     "text": [
      "(2, 10)\n",
      "[[ 0.05699503 -0.02494549]\n",
      " [-0.02494549  0.89925291]]\n",
      "0.9562479452301587\n",
      "-0.01453535031461337\n",
      "(100, 10)\n",
      "-0.022450944498543263\n"
     ]
    }
   ],
   "source": [
    "tmp = np.stack((y_hat[0,],y_true[0,]),axis = 0)\n",
    "print(tmp.shape)\n",
    "print(np.cov(tmp))\n",
    "print(np.trace(np.cov(tmp)))\n",
    "\n",
    "Ex = np.mean(y_hat[0,])\n",
    "Ey = np.mean(y_true[0,])\n",
    "count = 0.0\n",
    "print(y_hat[0,0])\n",
    "print(y_true.shape)\n",
    "for i in range (10):\n",
    "    #print(y_hat[0,i])\n",
    "    count += (y_hat[0,i] - Ex)*(y_true[0,i] -Ey)\n",
    "print(count/10)\n",
    "    \n"
   ]
  },
  {
   "cell_type": "code",
   "execution_count": 142,
   "metadata": {},
   "outputs": [
    {
     "name": "stdout",
     "output_type": "stream",
     "text": [
      "[[-1.3704619 ]\n",
      " [ 0.7630314 ]\n",
      " [-0.02186064]\n",
      " [-0.72814391]\n",
      " [ 1.1211619 ]\n",
      " [-0.53051406]\n",
      " [ 1.04306788]\n",
      " [-0.22732768]\n",
      " [-0.1595706 ]\n",
      " [-1.24267353]]\n",
      "[[ 1.60200957]\n",
      " [-0.22172606]\n",
      " [-1.61170325]\n",
      " [-0.2672082 ]\n",
      " [ 0.03816269]\n",
      " [ 0.55381256]\n",
      " [ 0.61399367]\n",
      " [ 0.07257177]\n",
      " [ 0.72751122]\n",
      " [-0.21164823]]\n",
      "[[-1.3704619   1.60200957]\n",
      " [ 0.7630314  -0.22172606]\n",
      " [-0.02186064 -1.61170325]\n",
      " [-0.72814391 -0.2672082 ]\n",
      " [ 1.1211619   0.03816269]\n",
      " [-0.53051406  0.55381256]\n",
      " [ 1.04306788  0.61399367]\n",
      " [-0.22732768  0.07257177]\n",
      " [-0.1595706   0.72751122]\n",
      " [-1.24267353 -0.21164823]]\n",
      "[[-1.3704619 ]\n",
      " [ 0.7630314 ]\n",
      " [-0.02186064]\n",
      " [-0.72814391]\n",
      " [ 1.1211619 ]\n",
      " [-0.53051406]\n",
      " [ 1.04306788]\n",
      " [-0.22732768]\n",
      " [-0.1595706 ]\n",
      " [-1.24267353]\n",
      " [ 1.60200957]\n",
      " [-0.22172606]\n",
      " [-1.61170325]\n",
      " [-0.2672082 ]\n",
      " [ 0.03816269]\n",
      " [ 0.55381256]\n",
      " [ 0.61399367]\n",
      " [ 0.07257177]\n",
      " [ 0.72751122]\n",
      " [-0.21164823]]\n"
     ]
    }
   ],
   "source": [
    "a = np.random.normal(loc =0, scale =1, size=(10,1))\n",
    "b = np.random.normal(loc =0, scale =1, size=(10,1))\n",
    "print(a)\n",
    "print(b)\n",
    "print(np.hstack((a,b)))\n",
    "print(np.vstack((a,b)))"
   ]
  },
  {
   "cell_type": "code",
   "execution_count": 144,
   "metadata": {},
   "outputs": [
    {
     "name": "stdout",
     "output_type": "stream",
     "text": [
      "[[1. 0. 0. 0. 0. 0. 0. 0. 0. 0.]\n",
      " [1. 0. 0. 0. 0. 0. 0. 0. 0. 0.]\n",
      " [1. 0. 0. 0. 0. 0. 0. 0. 0. 0.]\n",
      " [1. 0. 0. 0. 0. 0. 0. 0. 0. 0.]\n",
      " [1. 0. 0. 0. 0. 0. 0. 0. 0. 0.]\n",
      " [1. 0. 0. 0. 0. 0. 0. 0. 0. 0.]\n",
      " [1. 0. 0. 0. 0. 0. 0. 0. 0. 0.]\n",
      " [1. 0. 0. 0. 0. 0. 0. 0. 0. 0.]\n",
      " [1. 0. 0. 0. 0. 0. 0. 0. 0. 0.]\n",
      " [1. 0. 0. 0. 0. 0. 0. 0. 0. 0.]\n",
      " [1. 0. 0. 0. 0. 0. 0. 0. 0. 0.]\n",
      " [1. 0. 0. 0. 0. 0. 0. 0. 0. 0.]\n",
      " [1. 0. 0. 0. 0. 0. 0. 0. 0. 0.]\n",
      " [1. 0. 0. 0. 0. 0. 0. 0. 0. 0.]\n",
      " [1. 0. 0. 0. 0. 0. 0. 0. 0. 0.]\n",
      " [1. 0. 0. 0. 0. 0. 0. 0. 0. 0.]\n",
      " [1. 0. 0. 0. 0. 0. 0. 0. 0. 0.]\n",
      " [1. 0. 0. 0. 0. 0. 0. 0. 0. 0.]\n",
      " [1. 0. 0. 0. 0. 0. 0. 0. 0. 0.]\n",
      " [1. 0. 0. 0. 0. 0. 0. 0. 0. 0.]\n",
      " [1. 0. 0. 0. 0. 0. 0. 0. 0. 0.]\n",
      " [1. 0. 0. 0. 0. 0. 0. 0. 0. 0.]\n",
      " [1. 0. 0. 0. 0. 0. 0. 0. 0. 0.]\n",
      " [1. 0. 0. 0. 0. 0. 0. 0. 0. 0.]\n",
      " [1. 0. 0. 0. 0. 0. 0. 0. 0. 0.]\n",
      " [1. 0. 0. 0. 0. 0. 0. 0. 0. 0.]\n",
      " [1. 0. 0. 0. 0. 0. 0. 0. 0. 0.]\n",
      " [1. 0. 0. 0. 0. 0. 0. 0. 0. 0.]\n",
      " [1. 0. 0. 0. 0. 0. 0. 0. 0. 0.]\n",
      " [1. 0. 0. 0. 0. 0. 0. 0. 0. 0.]\n",
      " [1. 0. 0. 0. 0. 0. 0. 0. 0. 0.]\n",
      " [1. 0. 0. 0. 0. 0. 0. 0. 0. 0.]\n",
      " [1. 0. 0. 0. 0. 0. 0. 0. 0. 0.]\n",
      " [1. 0. 0. 0. 0. 0. 0. 0. 0. 0.]\n",
      " [1. 0. 0. 0. 0. 0. 0. 0. 0. 0.]\n",
      " [1. 0. 0. 0. 0. 0. 0. 0. 0. 0.]\n",
      " [1. 0. 0. 0. 0. 0. 0. 0. 0. 0.]\n",
      " [1. 0. 0. 0. 0. 0. 0. 0. 0. 0.]\n",
      " [1. 0. 0. 0. 0. 0. 0. 0. 0. 0.]\n",
      " [1. 0. 0. 0. 0. 0. 0. 0. 0. 0.]\n",
      " [1. 0. 0. 0. 0. 0. 0. 0. 0. 0.]\n",
      " [1. 0. 0. 0. 0. 0. 0. 0. 0. 0.]\n",
      " [1. 0. 0. 0. 0. 0. 0. 0. 0. 0.]\n",
      " [1. 0. 0. 0. 0. 0. 0. 0. 0. 0.]\n",
      " [1. 0. 0. 0. 0. 0. 0. 0. 0. 0.]\n",
      " [1. 0. 0. 0. 0. 0. 0. 0. 0. 0.]\n",
      " [1. 0. 0. 0. 0. 0. 0. 0. 0. 0.]\n",
      " [1. 0. 0. 0. 0. 0. 0. 0. 0. 0.]\n",
      " [1. 0. 0. 0. 0. 0. 0. 0. 0. 0.]\n",
      " [1. 0. 0. 0. 0. 0. 0. 0. 0. 0.]\n",
      " [1. 0. 0. 0. 0. 0. 0. 0. 0. 0.]\n",
      " [1. 0. 0. 0. 0. 0. 0. 0. 0. 0.]\n",
      " [1. 0. 0. 0. 0. 0. 0. 0. 0. 0.]\n",
      " [1. 0. 0. 0. 0. 0. 0. 0. 0. 0.]\n",
      " [1. 0. 0. 0. 0. 0. 0. 0. 0. 0.]\n",
      " [1. 0. 0. 0. 0. 0. 0. 0. 0. 0.]\n",
      " [1. 0. 0. 0. 0. 0. 0. 0. 0. 0.]\n",
      " [1. 0. 0. 0. 0. 0. 0. 0. 0. 0.]\n",
      " [1. 0. 0. 0. 0. 0. 0. 0. 0. 0.]\n",
      " [1. 0. 0. 0. 0. 0. 0. 0. 0. 0.]\n",
      " [1. 0. 0. 0. 0. 0. 0. 0. 0. 0.]\n",
      " [1. 0. 0. 0. 0. 0. 0. 0. 0. 0.]\n",
      " [1. 0. 0. 0. 0. 0. 0. 0. 0. 0.]\n",
      " [1. 0. 0. 0. 0. 0. 0. 0. 0. 0.]\n",
      " [1. 0. 0. 0. 0. 0. 0. 0. 0. 0.]\n",
      " [1. 0. 0. 0. 0. 0. 0. 0. 0. 0.]\n",
      " [1. 0. 0. 0. 0. 0. 0. 0. 0. 0.]\n",
      " [1. 0. 0. 0. 0. 0. 0. 0. 0. 0.]\n",
      " [1. 0. 0. 0. 0. 0. 0. 0. 0. 0.]\n",
      " [1. 0. 0. 0. 0. 0. 0. 0. 0. 0.]\n",
      " [1. 0. 0. 0. 0. 0. 0. 0. 0. 0.]\n",
      " [1. 0. 0. 0. 0. 0. 0. 0. 0. 0.]\n",
      " [1. 0. 0. 0. 0. 0. 0. 0. 0. 0.]\n",
      " [1. 0. 0. 0. 0. 0. 0. 0. 0. 0.]\n",
      " [1. 0. 0. 0. 0. 0. 0. 0. 0. 0.]\n",
      " [1. 0. 0. 0. 0. 0. 0. 0. 0. 0.]\n",
      " [1. 0. 0. 0. 0. 0. 0. 0. 0. 0.]\n",
      " [1. 0. 0. 0. 0. 0. 0. 0. 0. 0.]\n",
      " [1. 0. 0. 0. 0. 0. 0. 0. 0. 0.]\n",
      " [1. 0. 0. 0. 0. 0. 0. 0. 0. 0.]\n",
      " [1. 0. 0. 0. 0. 0. 0. 0. 0. 0.]\n",
      " [1. 0. 0. 0. 0. 0. 0. 0. 0. 0.]\n",
      " [1. 0. 0. 0. 0. 0. 0. 0. 0. 0.]\n",
      " [1. 0. 0. 0. 0. 0. 0. 0. 0. 0.]\n",
      " [1. 0. 0. 0. 0. 0. 0. 0. 0. 0.]\n",
      " [1. 0. 0. 0. 0. 0. 0. 0. 0. 0.]\n",
      " [1. 0. 0. 0. 0. 0. 0. 0. 0. 0.]\n",
      " [1. 0. 0. 0. 0. 0. 0. 0. 0. 0.]\n",
      " [1. 0. 0. 0. 0. 0. 0. 0. 0. 0.]\n",
      " [1. 0. 0. 0. 0. 0. 0. 0. 0. 0.]\n",
      " [1. 0. 0. 0. 0. 0. 0. 0. 0. 0.]\n",
      " [1. 0. 0. 0. 0. 0. 0. 0. 0. 0.]\n",
      " [1. 0. 0. 0. 0. 0. 0. 0. 0. 0.]\n",
      " [1. 0. 0. 0. 0. 0. 0. 0. 0. 0.]\n",
      " [1. 0. 0. 0. 0. 0. 0. 0. 0. 0.]\n",
      " [1. 0. 0. 0. 0. 0. 0. 0. 0. 0.]\n",
      " [1. 0. 0. 0. 0. 0. 0. 0. 0. 0.]\n",
      " [1. 0. 0. 0. 0. 0. 0. 0. 0. 0.]\n",
      " [1. 0. 0. 0. 0. 0. 0. 0. 0. 0.]\n",
      " [1. 0. 0. 0. 0. 0. 0. 0. 0. 0.]]\n"
     ]
    }
   ],
   "source": [
    "a = np.zeros(shape=(100,10))\n",
    "a[:,0] = 1\n",
    "print(a)"
   ]
  },
  {
   "cell_type": "code",
   "execution_count": null,
   "metadata": {},
   "outputs": [],
   "source": []
  }
 ],
 "metadata": {
  "kernelspec": {
   "display_name": "Python 3",
   "language": "python",
   "name": "python3"
  },
  "language_info": {
   "codemirror_mode": {
    "name": "ipython",
    "version": 3
   },
   "file_extension": ".py",
   "mimetype": "text/x-python",
   "name": "python",
   "nbconvert_exporter": "python",
   "pygments_lexer": "ipython3",
   "version": "3.6.4"
  }
 },
 "nbformat": 4,
 "nbformat_minor": 2
}
